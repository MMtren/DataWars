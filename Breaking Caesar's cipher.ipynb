{
 "cells": [
  {
   "cell_type": "code",
   "execution_count": 1,
   "metadata": {},
   "outputs": [],
   "source": [
    "import string"
   ]
  },
  {
   "cell_type": "code",
   "execution_count": 2,
   "metadata": {},
   "outputs": [],
   "source": [
    "letters = list(string.ascii_uppercase)"
   ]
  },
  {
   "cell_type": "code",
   "execution_count": 3,
   "metadata": {},
   "outputs": [],
   "source": [
    "def shift_letters(letters,shift_v):\n",
    "    if abs(shift_v) >len(letters):\n",
    "        val=abs(shift_v)%len(letters)\n",
    "        if(shift_v<0):\n",
    "            shift_v=len(letters)-val\n",
    "        else:\n",
    "            shift_v=val\n",
    "    else:\n",
    "        if(shift_v<0):\n",
    "            shift_v=len(letters)-abs(shift_v)\n",
    "\n",
    "    shifted_letters=[]\n",
    "    offset=shift_v\n",
    "    for i in range(len(letters)):\n",
    "        if i+shift_v<len(letters):\n",
    "            shifted_letters.append(letters[i+shift_v])\n",
    "        else:\n",
    "            shifted_letters.append(letters[shift_v-offset])\n",
    "            offset-=1\n",
    "    return shifted_letters"
   ]
  },
  {
   "cell_type": "code",
   "execution_count": 4,
   "metadata": {},
   "outputs": [],
   "source": [
    "shift_5 = shift_letters(letters,5)\n",
    "shift_minus_8 = shift_letters(letters,-8)\n",
    "shift_32 = shift_letters(letters,32)"
   ]
  },
  {
   "cell_type": "code",
   "execution_count": 5,
   "metadata": {},
   "outputs": [],
   "source": [
    "def encrypt_full(text, shift):\n",
    "    letters = list(string.ascii_uppercase)\n",
    "    sletters=shift_letters(letters,shift)\n",
    "    encword=\"\"\n",
    "    for c in text:\n",
    "        if c.upper() in list(string.ascii_uppercase):\n",
    "            if c.isupper():\n",
    "                encword=encword+sletters[letters.index(c)]\n",
    "            else:\n",
    "                encword=encword+sletters[letters.index(c.upper())].lower()\n",
    "        else:\n",
    "            encword=encword+c\n",
    "    return encword"
   ]
  },
  {
   "cell_type": "code",
   "execution_count": 6,
   "metadata": {},
   "outputs": [],
   "source": [
    "def decrypt_full(encrypted_text, original_shift):\n",
    "    letters = list(string.ascii_uppercase)\n",
    "    sletters=shift_letters(letters,original_shift)\n",
    "    decword=\"\"\n",
    "    for c in encrypted_text:\n",
    "       if c.upper() in list(string.ascii_uppercase):\n",
    "           if c.isupper():\n",
    "               decword=decword+letters[sletters.index(c)]\n",
    "           else:\n",
    "               decword=decword+letters[sletters.index(c.upper())].lower() \n",
    "       else:\n",
    "            decword=decword+c\n",
    "    return decword"
   ]
  },
  {
   "cell_type": "code",
   "execution_count": 7,
   "metadata": {},
   "outputs": [],
   "source": [
    "def break_cipher(encrypted_message, known_word):\n",
    "    list_dist=[]\n",
    "    for c in range(len(known_word)-1):\n",
    "        list_dist.append(ord(known_word[c])-ord(known_word[c+1]))\n",
    "    words_list=encrypted_message.split()\n",
    "    for word in words_list:\n",
    "        pass\n",
    "    print(list_dist)\n",
    "    print(words_list)"
   ]
  },
  {
   "cell_type": "code",
   "execution_count": 8,
   "metadata": {},
   "outputs": [],
   "source": [
    "def distance_calc(word):\n",
    "    list_dist=[]\n",
    "    for c in range(len(word)-1):\n",
    "        if ord(word[c])<ord(word[c+1]):\n",
    "            list_dist.append(ord(word[c+1])-ord(word[c]))\n",
    "        else:\n",
    "            list_dist.append(26-(ord(word[c])-ord(word[c+1])))\n",
    "    return list_dist"
   ]
  },
  {
   "cell_type": "code",
   "execution_count": 9,
   "metadata": {},
   "outputs": [],
   "source": [
    "def break_cipher(encrypted_message, known_word):\n",
    "    word_dist=distance_calc(known_word)\n",
    "    look_dist=[]\n",
    "    words_list=encrypted_message.split()\n",
    "    shift=0\n",
    "    for word in words_list:\n",
    "        word_dd=distance_calc(word)\n",
    "        if word_dd==word_dist:\n",
    "            return decrypt_full(encrypted_message,ord(word[0])-ord(known_word[0]))"
   ]
  },
  {
   "cell_type": "code",
   "execution_count": 10,
   "metadata": {},
   "outputs": [
    {
     "name": "stdout",
     "output_type": "stream",
     "text": [
      "MY FAVORITE WEBSITE IS DATAWARS SO MANY GREAT PROJECTS\n"
     ]
    },
    {
     "data": {
      "text/plain": [
       "'DATAWARS IS THE BEST DATA SCIENCE PRACTICE PLATFORM IN THE ENTIRE WORLD'"
      ]
     },
     "execution_count": 10,
     "metadata": {},
     "output_type": "execute_result"
    }
   ],
   "source": [
    "print(break_cipher(\"VH OJEXARCN FNKBRCN RB MJCJFJAB BX VJWH PANJC YAXSNLCB\",\"DATAWARS\"))\n",
    "\n",
    "break_cipher(\"MY FAVORITE WEBSITE IS DATAWARS SO MANY GREAT PROJECTS\",\"MJCJFJAB\")\n",
    "\n",
    "\n",
    "encrypted_text = encrypt_full(\"DATAWARS IS THE BEST DATA SCIENCE PRACTICE PLATFORM IN THE ENTIRE WORLD\", 12)\n",
    "encrypted_text\n",
    "\n",
    "break_cipher(encrypted_text, \"SCIENCE\")\n",
    "break_cipher(encrypted_text, \"PLATFORM\")"
   ]
  }
 ],
 "metadata": {
  "kernelspec": {
   "display_name": "base",
   "language": "python",
   "name": "python3"
  },
  "language_info": {
   "codemirror_mode": {
    "name": "ipython",
    "version": 3
   },
   "file_extension": ".py",
   "mimetype": "text/x-python",
   "name": "python",
   "nbconvert_exporter": "python",
   "pygments_lexer": "ipython3",
   "version": "3.9.19"
  }
 },
 "nbformat": 4,
 "nbformat_minor": 2
}
